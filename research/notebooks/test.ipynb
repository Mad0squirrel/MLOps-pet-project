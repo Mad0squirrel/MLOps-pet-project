{
 "cells": [
  {
   "cell_type": "code",
   "execution_count": 1,
   "metadata": {},
   "outputs": [],
   "source": [
    "import pandas as pd\n",
    "import matplotlib.pyplot as plt"
   ]
  },
  {
   "cell_type": "code",
   "execution_count": null,
   "metadata": {},
   "outputs": [],
   "source": [
    "df = pd.read_csv(\"../data/processed/data.csv\")"
   ]
  },
  {
   "cell_type": "code",
   "execution_count": null,
   "metadata": {},
   "outputs": [],
   "source": [
    "max_price = df[price].max()\n",
    "percentile_99 = df[TARGET].quantile(0.99)  # 99-й перцентиль\n",
    "mean_price = df[TARGET].mean()\n",
    "std_price = df[TARGET].std()\n",
    "\n",
    "print(f\"Максимальная цена: {max_price}\")\n",
    "print(f\"99-й перцентиль: {percentile_99}\")\n",
    "print(f\"Среднее: {mean_price}, стандартное отклонение: {std_price}\")"
   ]
  }
 ],
 "metadata": {
  "kernelspec": {
   "display_name": "mlops-research-cr5A8wiw-py3.11",
   "language": "python",
   "name": "python3"
  },
  "language_info": {
   "codemirror_mode": {
    "name": "ipython",
    "version": 3
   },
   "file_extension": ".py",
   "mimetype": "text/x-python",
   "name": "python",
   "nbconvert_exporter": "python",
   "pygments_lexer": "ipython3",
   "version": "3.11.9"
  }
 },
 "nbformat": 4,
 "nbformat_minor": 2
}
