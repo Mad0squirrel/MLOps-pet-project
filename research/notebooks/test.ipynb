{
 "cells": [
  {
   "cell_type": "code",
   "execution_count": 12,
   "metadata": {},
   "outputs": [],
   "source": [
    "import pandas as pd"
   ]
  },
  {
   "cell_type": "code",
   "execution_count": 13,
   "metadata": {},
   "outputs": [],
   "source": [
    "df = pd.read_csv(\"../data/processed/data.csv\")"
   ]
  },
  {
   "cell_type": "code",
   "execution_count": 14,
   "metadata": {},
   "outputs": [
    {
     "name": "stdout",
     "output_type": "stream",
     "text": [
      "Максимальная цена: 395000000\n",
      "99-й перцентиль: 125017119.99999999\n",
      "Среднее: 19611472.98806315, стандартное отклонение: 24955364.24009745\n"
     ]
    }
   ],
   "source": [
    "max_price = df.price.max()\n",
    "percentile_99 = df.price.quantile(0.99)\n",
    "mean_price = df.price.mean()\n",
    "std_price = df.price.std()\n",
    "\n",
    "print(f\"Максимальная цена: {max_price}\")\n",
    "print(f\"99-й перцентиль: {percentile_99}\")\n",
    "print(f\"Среднее: {mean_price}, стандартное отклонение: {std_price}\")"
   ]
  }
 ],
 "metadata": {
  "kernelspec": {
   "display_name": "mlops-research-cr5A8wiw-py3.11",
   "language": "python",
   "name": "python3"
  },
  "language_info": {
   "codemirror_mode": {
    "name": "ipython",
    "version": 3
   },
   "file_extension": ".py",
   "mimetype": "text/x-python",
   "name": "python",
   "nbconvert_exporter": "python",
   "pygments_lexer": "ipython3",
   "version": "3.11.9"
  }
 },
 "nbformat": 4,
 "nbformat_minor": 2
}
